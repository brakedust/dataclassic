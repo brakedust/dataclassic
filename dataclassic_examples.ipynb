{
 "cells": [
  {
   "cell_type": "markdown",
   "metadata": {},
   "source": [
    "# DataClassic examples"
   ]
  },
  {
   "cell_type": "code",
   "execution_count": 7,
   "metadata": {},
   "outputs": [],
   "source": [
    "from dataclassic.doc_store import DocumentStore, Database\n",
    "from dataclassic.dataclasses import dataclass, field, DataClassicValidationError, to_json, from_json"
   ]
  },
  {
   "cell_type": "code",
   "execution_count": 8,
   "metadata": {},
   "outputs": [],
   "source": [
    "# The validator gets the instance of the class\n",
    "def RealShapeValidator(shape: \"Shape\"):    \n",
    "    \"A shape must have at least three sides\"\n",
    "    return shape.sides > 2\n",
    "\n",
    "\n",
    "@dataclass\n",
    "class Shape:\n",
    "    ID: str = field(converter=str)  # we can add an extra convert argument here\n",
    "    sides: int = field(converter=int, validator=RealShapeValidator)  # we can also add a validator\n",
    "    color: str = field(converter=str)"
   ]
  },
  {
   "cell_type": "code",
   "execution_count": 9,
   "metadata": {},
   "outputs": [],
   "source": [
    "hexagon = Shape(ID=\"hexagon\", sides=6, color=\"green\")"
   ]
  },
  {
   "cell_type": "code",
   "execution_count": 10,
   "metadata": {},
   "outputs": [
    {
     "ename": "DataClassicValidationError",
     "evalue": "Validation for Shape.sides failed.",
     "output_type": "error",
     "traceback": [
      "\u001b[1;31m---------------------------------------------------------------------------\u001b[0m",
      "\u001b[1;31mDataClassicValidationError\u001b[0m                Traceback (most recent call last)",
      "\u001b[1;32mc:\\Users\\CampbellBL\\work\\src\\python_src\\koala\\dataclassic_examples.ipynb Cell 5'\u001b[0m in \u001b[0;36m<cell line: 2>\u001b[1;34m()\u001b[0m\n\u001b[0;32m      <a href='vscode-notebook-cell:/c%3A/Users/CampbellBL/work/src/python_src/koala/dataclassic_examples.ipynb#ch0000004?line=0'>1</a>\u001b[0m \u001b[39m# This will fail the RealShapeValidator\u001b[39;00m\n\u001b[1;32m----> <a href='vscode-notebook-cell:/c%3A/Users/CampbellBL/work/src/python_src/koala/dataclassic_examples.ipynb#ch0000004?line=1'>2</a>\u001b[0m duogon \u001b[39m=\u001b[39m Shape(ID\u001b[39m=\u001b[39;49m\u001b[39m\"\u001b[39;49m\u001b[39mduogon\u001b[39;49m\u001b[39m\"\u001b[39;49m, sides\u001b[39m=\u001b[39;49m\u001b[39m2\u001b[39;49m, color\u001b[39m=\u001b[39;49m\u001b[39m\"\u001b[39;49m\u001b[39mmaroon\u001b[39;49m\u001b[39m\"\u001b[39;49m)\n",
      "File \u001b[1;32m<string>:6\u001b[0m, in \u001b[0;36m__init__\u001b[1;34m(self, ID, sides, color)\u001b[0m\n",
      "File \u001b[1;32mc:\\Users\\CampbellBL\\work\\src\\python_src\\koala\\dataclassic\\dataclasses.py:163\u001b[0m, in \u001b[0;36mpost_init_coersion.<locals>.__post_init__\u001b[1;34m(self)\u001b[0m\n\u001b[0;32m    160\u001b[0m \u001b[39mif\u001b[39;00m \u001b[39m\"\u001b[39m\u001b[39mvalidator\u001b[39m\u001b[39m\"\u001b[39m \u001b[39min\u001b[39;00m f\u001b[39m.\u001b[39mmetadata \u001b[39mand\u001b[39;00m f\u001b[39m.\u001b[39mmetadata[\u001b[39m\"\u001b[39m\u001b[39mvalidator\u001b[39m\u001b[39m\"\u001b[39m]:\n\u001b[0;32m    161\u001b[0m     \u001b[39m# if a validator function is defined, then run it\u001b[39;00m\n\u001b[0;32m    162\u001b[0m     \u001b[39mif\u001b[39;00m \u001b[39mnot\u001b[39;00m f\u001b[39m.\u001b[39mmetadata[\u001b[39m\"\u001b[39m\u001b[39mvalidator\u001b[39m\u001b[39m\"\u001b[39m](\u001b[39mself\u001b[39m):\n\u001b[1;32m--> 163\u001b[0m         \u001b[39mraise\u001b[39;00m DataClassicValidationError(\n\u001b[0;32m    164\u001b[0m             \u001b[39mf\u001b[39m\u001b[39m\"\u001b[39m\u001b[39mValidation for \u001b[39m\u001b[39m{\u001b[39;00m\u001b[39mcls\u001b[39m\u001b[39m.\u001b[39m\u001b[39m__name__\u001b[39m\u001b[39m}\u001b[39;00m\u001b[39m.\u001b[39m\u001b[39m{\u001b[39;00mf\u001b[39m.\u001b[39mname\u001b[39m}\u001b[39;00m\u001b[39m failed.\u001b[39m\u001b[39m\"\u001b[39m\n\u001b[0;32m    165\u001b[0m         )\n\u001b[0;32m    167\u001b[0m \u001b[39melif\u001b[39;00m is_dataclass(f\u001b[39m.\u001b[39mtype):\n\u001b[0;32m    168\u001b[0m     \u001b[39mif\u001b[39;00m \u001b[39misinstance\u001b[39m(current_value, \u001b[39mdict\u001b[39m):\n",
      "\u001b[1;31mDataClassicValidationError\u001b[0m: Validation for Shape.sides failed."
     ]
    }
   ],
   "source": [
    "# This will fail the RealShapeValidator\n",
    "duogon = Shape(ID=\"duogon\", sides=2, color=\"maroon\")"
   ]
  },
  {
   "cell_type": "markdown",
   "metadata": {},
   "source": [
    "# Serialization to JSON\n",
    "\n",
    "This isn't any big deal, as regular dataclasses make this pretty easy"
   ]
  },
  {
   "cell_type": "code",
   "execution_count": 11,
   "metadata": {},
   "outputs": [
    {
     "name": "stdout",
     "output_type": "stream",
     "text": [
      "s='{\"ID\": \"hexagon\", \"sides\": 6, \"color\": \"green\"}'\n",
      "hexagon2=Shape(ID='hexagon', sides=6, color='green')\n"
     ]
    }
   ],
   "source": [
    "s = to_json(hexagon)\n",
    "print(f\"{s=}\")\n",
    "hexagon2 = from_json(s, Shape)\n",
    "print(f\"{hexagon2=}\")"
   ]
  },
  {
   "cell_type": "markdown",
   "metadata": {},
   "source": [
    "# Type Coercion\n",
    "\n",
    "Here we make the side a string value.  The type coercion automatically turns it into a float.\n",
    "Regular dataclasses don't do this."
   ]
  },
  {
   "cell_type": "code",
   "execution_count": 12,
   "metadata": {},
   "outputs": [
    {
     "name": "stdout",
     "output_type": "stream",
     "text": [
      "Shape(ID='hexagaon', sides=6, color='green')\n"
     ]
    }
   ],
   "source": [
    "text = '{\"ID\": \"hexagaon\", \"sides\": \"6\", \"color\": \"green\"}'  # made 6 a string value\n",
    "hexagon3 = from_json(text, Shape)\n",
    "assert hexagon3.sides == 6\n",
    "print(hexagon3)"
   ]
  },
  {
   "cell_type": "markdown",
   "metadata": {},
   "source": [
    "# Document Store"
   ]
  },
  {
   "cell_type": "code",
   "execution_count": 13,
   "metadata": {},
   "outputs": [
    {
     "name": "stdout",
     "output_type": "stream",
     "text": [
      "triangle=Shape(ID='triangle', sides=3, color='red')\n"
     ]
    }
   ],
   "source": [
    "# Define a bunch of shapes that we will want to store\n",
    "hexagon = Shape(ID=\"hexagon\", sides=6, color=\"green\")\n",
    "triangle = Shape(ID=\"triangle\", sides=\"3\", color=\"red\")  # type coercion will work here too.\n",
    "rectangle = Shape(ID=\"rectangle\", sides=4, color=\"blue\")\n",
    "pentagon = Shape(ID=\"pentagon\", sides=5, color=\"red\")\n",
    "print(f\"{triangle=}\")"
   ]
  },
  {
   "cell_type": "code",
   "execution_count": 14,
   "metadata": {},
   "outputs": [],
   "source": [
    "# We'll define a sqlite database (in memory for this example) and a shapes document store\n",
    "db = Database(\"sqlite:///:memory:\")\n",
    "shapes = DocumentStore(\"shapes\", db, False, dtype=Shape)"
   ]
  },
  {
   "cell_type": "code",
   "execution_count": 15,
   "metadata": {},
   "outputs": [
    {
     "data": {
      "text/plain": [
       "[{'ID': 'triangle', 'sides': 3, 'color': 'red'},\n",
       " {'ID': 'rectangle', 'sides': 4, 'color': 'blue'},\n",
       " {'ID': 'pentagon', 'sides': 5, 'color': 'red'},\n",
       " {'ID': 'hexagon', 'sides': 6, 'color': 'green'}]"
      ]
     },
     "execution_count": 15,
     "metadata": {},
     "output_type": "execute_result"
    }
   ],
   "source": [
    "# We can insert them all at once\n",
    "shapes.insert_many((triangle, rectangle, pentagon, hexagon))"
   ]
  },
  {
   "cell_type": "code",
   "execution_count": 16,
   "metadata": {},
   "outputs": [
    {
     "data": {
      "text/plain": [
       "{'triangle': '{\"ID\": \"triangle\", \"sides\": 3, \"color\": \"red\"}',\n",
       " 'rectangle': '{\"ID\": \"rectangle\", \"sides\": 4, \"color\": \"blue\"}',\n",
       " 'pentagon': '{\"ID\": \"pentagon\", \"sides\": 5, \"color\": \"red\"}',\n",
       " 'hexagon': '{\"ID\": \"hexagon\", \"sides\": 6, \"color\": \"green\"}'}"
      ]
     },
     "execution_count": 16,
     "metadata": {},
     "output_type": "execute_result"
    }
   ],
   "source": [
    "# Data is stored in a two column table - ID and Document are the columns\n",
    "# This bit is just to show how the data is stored.  Next we can\n",
    "# use the shapes collection to more easily do queries\n",
    "cursor = db.cursor()\n",
    "cursor.execute(\"select * from collectionj_shapes\")\n",
    "{item[\"ID\"]:item[\"Document\"] for item in cursor.fetchall()}"
   ]
  },
  {
   "cell_type": "markdown",
   "metadata": {},
   "source": [
    "# Queries\n",
    "\n",
    "    =======             ======================\n",
    "    OP                  Equivalent SQL\n",
    "    =======             ======================\n",
    "    $and, and           and\n",
    "    $in                 in\n",
    "    $or, or             or\n",
    "    &like, like         like\n",
    "    $nin, not in        not in\n",
    "    $between, between   between\n",
    "    $null, null         is null\n",
    "    $nnull, not null    is not null\n",
    "    $gt, gt, >          >\n",
    "    $gte, gte, >=       >=\n",
    "    $lt, lt, <          <\n",
    "    $lte, lte, <=       <=\n",
    "    $ne, ne, <>, !=     <>\n",
    "    $eq, eq, =, ==      =\n"
   ]
  },
  {
   "cell_type": "code",
   "execution_count": 17,
   "metadata": {},
   "outputs": [
    {
     "data": {
      "text/plain": [
       "[Shape(ID='triangle', sides=3, color='red'),\n",
       " Shape(ID='rectangle', sides=4, color='blue'),\n",
       " Shape(ID='pentagon', sides=5, color='red'),\n",
       " Shape(ID='hexagon', sides=6, color='green')]"
      ]
     },
     "execution_count": 17,
     "metadata": {},
     "output_type": "execute_result"
    }
   ],
   "source": [
    "# Get all of the shapes\n",
    "shapes.find()"
   ]
  },
  {
   "cell_type": "code",
   "execution_count": 18,
   "metadata": {},
   "outputs": [
    {
     "data": {
      "text/plain": [
       "[Shape(ID='pentagon', sides=5, color='red'),\n",
       " Shape(ID='hexagon', sides=6, color='green')]"
      ]
     },
     "execution_count": 18,
     "metadata": {},
     "output_type": "execute_result"
    }
   ],
   "source": [
    "# We can query like this:\n",
    "shapes.find(\"@sides > 4\")"
   ]
  },
  {
   "cell_type": "code",
   "execution_count": 19,
   "metadata": {},
   "outputs": [
    {
     "data": {
      "text/plain": [
       "[Shape(ID='rectangle', sides=4, color='blue'),\n",
       " Shape(ID='pentagon', sides=5, color='red')]"
      ]
     },
     "execution_count": 19,
     "metadata": {},
     "output_type": "execute_result"
    }
   ],
   "source": [
    "# And we can query like this:\n",
    "shapes.find(\"@sides > 3 and @sides < 6\")"
   ]
  },
  {
   "cell_type": "code",
   "execution_count": 20,
   "metadata": {},
   "outputs": [
    {
     "name": "stdout",
     "output_type": "stream",
     "text": [
      "not_blue_red=[Shape(ID='hexagon', sides=6, color='green')]\n",
      "blue_red=[Shape(ID='triangle', sides=3, color='red'), Shape(ID='rectangle', sides=4, color='blue'), Shape(ID='pentagon', sides=5, color='red')]\n"
     ]
    }
   ],
   "source": [
    "# Query to find things in or not in a set\n",
    "not_blue_red = shapes.find(\"@color not in ('blue', 'red')\")\n",
    "blue_red = shapes.find(\"@color in ('blue', 'red')\")\n",
    "\n",
    "print(f\"{not_blue_red=}\\n{blue_red=}\")"
   ]
  },
  {
   "cell_type": "code",
   "execution_count": 21,
   "metadata": {},
   "outputs": [
    {
     "name": "stdout",
     "output_type": "stream",
     "text": [
      "[Shape(ID='rectangle', sides=4, color='blue')]\n",
      "[Shape(ID='triangle', sides=3, color='red'), Shape(ID='rectangle', sides=4, color='blue'), Shape(ID='pentagon', sides=5, color='red')]\n"
     ]
    }
   ],
   "source": [
    "# A MongoDB like syntax is also supported\n",
    "print(shapes.find2({\"$eq\": {\"@color\" : 'blue'}}))\n",
    "print(shapes.find2({\"$in\": {\"@color\" : ('blue', 'red')}}))"
   ]
  },
  {
   "cell_type": "code",
   "execution_count": null,
   "metadata": {},
   "outputs": [],
   "source": [
    "\n",
    "\n"
   ]
  },
  {
   "cell_type": "code",
   "execution_count": 22,
   "metadata": {},
   "outputs": [],
   "source": [
    "data = shapes.find()\n",
    "\n",
    "    \n"
   ]
  },
  {
   "cell_type": "code",
   "execution_count": 23,
   "metadata": {},
   "outputs": [
    {
     "data": {
      "text/plain": [
       "[Shape(ID='triangle', sides=3, color='red'),\n",
       " Shape(ID='rectangle', sides=4, color='blue'),\n",
       " Shape(ID='pentagon', sides=5, color='red'),\n",
       " Shape(ID='hexagon', sides=6, color='green')]"
      ]
     },
     "execution_count": 23,
     "metadata": {},
     "output_type": "execute_result"
    }
   ],
   "source": [
    "data"
   ]
  },
  {
   "cell_type": "code",
   "execution_count": 27,
   "metadata": {},
   "outputs": [],
   "source": [
    "colmap = dict(enumerate(Shape.__dataclass_fields__.keys()))"
   ]
  },
  {
   "cell_type": "code",
   "execution_count": 30,
   "metadata": {},
   "outputs": [],
   "source": [
    "def getd(i, j):\n",
    "\n",
    "    return getattr(data[i], colmap[j])"
   ]
  },
  {
   "cell_type": "code",
   "execution_count": 31,
   "metadata": {},
   "outputs": [
    {
     "data": {
      "text/plain": [
       "4"
      ]
     },
     "execution_count": 31,
     "metadata": {},
     "output_type": "execute_result"
    }
   ],
   "source": [
    "getd(1,1)"
   ]
  },
  {
   "cell_type": "code",
   "execution_count": 34,
   "metadata": {},
   "outputs": [],
   "source": [
    "from dataclassic.dctables import DataClassTable\n"
   ]
  },
  {
   "cell_type": "code",
   "execution_count": 35,
   "metadata": {},
   "outputs": [],
   "source": [
    "t=DataClassTable(data)"
   ]
  },
  {
   "cell_type": "code",
   "execution_count": 36,
   "metadata": {},
   "outputs": [
    {
     "ename": "AttributeError",
     "evalue": "'DataClassTable' object has no attribute 'name'",
     "output_type": "error",
     "traceback": [
      "\u001b[1;31m---------------------------------------------------------------------------\u001b[0m",
      "\u001b[1;31mAttributeError\u001b[0m                            Traceback (most recent call last)",
      "File \u001b[1;32mc:\\users\\CampbellBL\\work\\apps\\pyvenv\\work\\lib\\site-packages\\IPython\\core\\formatters.py:707\u001b[0m, in \u001b[0;36mPlainTextFormatter.__call__\u001b[1;34m(self, obj)\u001b[0m\n\u001b[0;32m    700\u001b[0m stream \u001b[39m=\u001b[39m StringIO()\n\u001b[0;32m    701\u001b[0m printer \u001b[39m=\u001b[39m pretty\u001b[39m.\u001b[39mRepresentationPrinter(stream, \u001b[39mself\u001b[39m\u001b[39m.\u001b[39mverbose,\n\u001b[0;32m    702\u001b[0m     \u001b[39mself\u001b[39m\u001b[39m.\u001b[39mmax_width, \u001b[39mself\u001b[39m\u001b[39m.\u001b[39mnewline,\n\u001b[0;32m    703\u001b[0m     max_seq_length\u001b[39m=\u001b[39m\u001b[39mself\u001b[39m\u001b[39m.\u001b[39mmax_seq_length,\n\u001b[0;32m    704\u001b[0m     singleton_pprinters\u001b[39m=\u001b[39m\u001b[39mself\u001b[39m\u001b[39m.\u001b[39msingleton_printers,\n\u001b[0;32m    705\u001b[0m     type_pprinters\u001b[39m=\u001b[39m\u001b[39mself\u001b[39m\u001b[39m.\u001b[39mtype_printers,\n\u001b[0;32m    706\u001b[0m     deferred_pprinters\u001b[39m=\u001b[39m\u001b[39mself\u001b[39m\u001b[39m.\u001b[39mdeferred_printers)\n\u001b[1;32m--> 707\u001b[0m printer\u001b[39m.\u001b[39;49mpretty(obj)\n\u001b[0;32m    708\u001b[0m printer\u001b[39m.\u001b[39mflush()\n\u001b[0;32m    709\u001b[0m \u001b[39mreturn\u001b[39;00m stream\u001b[39m.\u001b[39mgetvalue()\n",
      "File \u001b[1;32mc:\\users\\CampbellBL\\work\\apps\\pyvenv\\work\\lib\\site-packages\\IPython\\lib\\pretty.py:410\u001b[0m, in \u001b[0;36mRepresentationPrinter.pretty\u001b[1;34m(self, obj)\u001b[0m\n\u001b[0;32m    407\u001b[0m                         \u001b[39mreturn\u001b[39;00m meth(obj, \u001b[39mself\u001b[39m, cycle)\n\u001b[0;32m    408\u001b[0m                 \u001b[39mif\u001b[39;00m \u001b[39mcls\u001b[39m \u001b[39mis\u001b[39;00m \u001b[39mnot\u001b[39;00m \u001b[39mobject\u001b[39m \\\n\u001b[0;32m    409\u001b[0m                         \u001b[39mand\u001b[39;00m callable(\u001b[39mcls\u001b[39m\u001b[39m.\u001b[39m\u001b[39m__dict__\u001b[39m\u001b[39m.\u001b[39mget(\u001b[39m'\u001b[39m\u001b[39m__repr__\u001b[39m\u001b[39m'\u001b[39m)):\n\u001b[1;32m--> 410\u001b[0m                     \u001b[39mreturn\u001b[39;00m _repr_pprint(obj, \u001b[39mself\u001b[39;49m, cycle)\n\u001b[0;32m    412\u001b[0m     \u001b[39mreturn\u001b[39;00m _default_pprint(obj, \u001b[39mself\u001b[39m, cycle)\n\u001b[0;32m    413\u001b[0m \u001b[39mfinally\u001b[39;00m:\n",
      "File \u001b[1;32mc:\\users\\CampbellBL\\work\\apps\\pyvenv\\work\\lib\\site-packages\\IPython\\lib\\pretty.py:778\u001b[0m, in \u001b[0;36m_repr_pprint\u001b[1;34m(obj, p, cycle)\u001b[0m\n\u001b[0;32m    776\u001b[0m \u001b[39m\"\"\"A pprint that just redirects to the normal repr function.\"\"\"\u001b[39;00m\n\u001b[0;32m    777\u001b[0m \u001b[39m# Find newlines and replace them with p.break_()\u001b[39;00m\n\u001b[1;32m--> 778\u001b[0m output \u001b[39m=\u001b[39m \u001b[39mrepr\u001b[39;49m(obj)\n\u001b[0;32m    779\u001b[0m lines \u001b[39m=\u001b[39m output\u001b[39m.\u001b[39msplitlines()\n\u001b[0;32m    780\u001b[0m \u001b[39mwith\u001b[39;00m p\u001b[39m.\u001b[39mgroup():\n",
      "File \u001b[1;32mc:\\Users\\CampbellBL\\work\\src\\python_src\\koala\\dataclassic\\dctables.py:52\u001b[0m, in \u001b[0;36mDataClassTable.__repr__\u001b[1;34m(self)\u001b[0m\n\u001b[0;32m     50\u001b[0m \u001b[39mdef\u001b[39;00m \u001b[39m__repr__\u001b[39m(\u001b[39mself\u001b[39m):\n\u001b[1;32m---> 52\u001b[0m     \u001b[39mif\u001b[39;00m \u001b[39mself\u001b[39;49m\u001b[39m.\u001b[39;49mname \u001b[39mnot\u001b[39;00m \u001b[39min\u001b[39;00m (\u001b[39m\"\u001b[39m\u001b[39m\"\u001b[39m, \u001b[39mNone\u001b[39;00m):\n\u001b[0;32m     53\u001b[0m         retval \u001b[39m=\u001b[39m \u001b[39m\"\u001b[39m\u001b[39mName: \u001b[39m\u001b[39m{0}\u001b[39;00m\u001b[39m\\n\u001b[39;00m\u001b[39m\"\u001b[39m\u001b[39m.\u001b[39mformat(\u001b[39mself\u001b[39m\u001b[39m.\u001b[39mname)\n\u001b[0;32m     54\u001b[0m     \u001b[39melse\u001b[39;00m:\n",
      "\u001b[1;31mAttributeError\u001b[0m: 'DataClassTable' object has no attribute 'name'"
     ]
    }
   ],
   "source": [
    "t"
   ]
  }
 ],
 "metadata": {
  "kernelspec": {
   "display_name": "Python 3.10.4 64-bit (system)",
   "language": "python",
   "name": "python3"
  },
  "language_info": {
   "codemirror_mode": {
    "name": "ipython",
    "version": 3
   },
   "file_extension": ".py",
   "mimetype": "text/x-python",
   "name": "python",
   "nbconvert_exporter": "python",
   "pygments_lexer": "ipython3",
   "version": "3.10.7"
  },
  "orig_nbformat": 4,
  "vscode": {
   "interpreter": {
    "hash": "16ac311b574ecee42214f3f43f52a2059859658c40f67402606189208f216e7e"
   }
  }
 },
 "nbformat": 4,
 "nbformat_minor": 2
}
